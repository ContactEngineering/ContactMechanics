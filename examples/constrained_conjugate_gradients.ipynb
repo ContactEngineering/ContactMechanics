{
 "cells": [
  {
   "cell_type": "code",
   "execution_count": 1,
   "metadata": {
    "collapsed": true
   },
   "outputs": [
    {
     "name": "stdout",
     "output_type": "stream",
     "text": [
      "1.0145420206083464\n",
      "0.7016236250600787\n"
     ]
    }
   ],
   "source": [
    "\n",
    "Es = 1.\n",
    "rms_slope = 1.\n",
    "dx = 1  # pixel size\n",
    "\n",
    "from SurfaceTopography.Generation import fourier_synthesis\n",
    "import numpy as np\n",
    "import matplotlib.pyplot as plt\n",
    "\n",
    "# for the CM demo\n",
    "from ContactMechanics import make_system\n",
    "from ContactMechanics.Tools.Logger import screen\n",
    "\n",
    "np.random.seed(0)\n",
    "\n",
    "n = 256  # you can increase this to your convenience\n",
    "s = n * dx\n",
    "\n",
    "topo = fourier_synthesis(nb_grid_pts=(n, n),\n",
    "                         hurst=0.8,\n",
    "                         physical_sizes=(s, s),\n",
    "                         rms_slope=1.,\n",
    "                         long_cutoff=s / 2,\n",
    "                         # decrease this to get closer to the\n",
    "                         # thermodynamic limit (less fluctuations)\n",
    "                         short_cutoff=dx * 4,\n",
    "                         # increase for better discretization\n",
    "                         # of the smallest wavelengths\n",
    "                         )\n",
    "\n",
    "# rescale the topography so that the rms slope is exactly one\n",
    "# squeeze applies the scaling factor to the heights and save this as a copy\n",
    "# this avoids that the scaling multiplication is applied at each call of height\n",
    "print(topo.rms_gradient())\n",
    "print(topo.rms_slope_from_profile())\n",
    "\n",
    "topo = topo.scale(1 / topo.rms_gradient()).squeeze()\n",
    "\n",
    "topo._heights = topo.heights() - np.max(topo.heights())\n",
    "\n",
    "\n",
    "###############################################################################\n",
    "####### DEMO of contact mechanics\n",
    "###############################################################################\n",
    "\n",
    "# lazy way to setup the system\n",
    "system = make_system(substrate=\"periodic\", surface=topo, young=Es)"
   ]
  },
  {
   "cell_type": "code",
   "execution_count": 2,
   "outputs": [
    {
     "name": "stdout",
     "output_type": "stream",
     "text": [
      "dual\n",
      "CONVERGENCE: NORM_OF_PROJECTED_GRADIENT_<=_PGTOL\n",
      "solver: l-bfgs-b, nit=76\n",
      "CONVERGENCE: NORM_OF_GRADIENT_<=_GTOL\n",
      "solver: ccg_with_restart, nit=161\n",
      "it 2 : hessian is negative along the descent direction. You will probably need linesearch or trust region\n",
      "CONVERGENCE: NORM_OF_GRADIENT_<=_GTOL\n",
      "solver: ccg_without_restart, nit=73\n",
      "contac area: 0.3651885986328125\n",
      "primal\n",
      "CONVERGENCE: NORM_OF_PROJECTED_GRADIENT_<=_PGTOL\n",
      "solver: l-bfgs-b, nit=76\n",
      "CONVERGENCE: NORM_OF_GRADIENT_<=_GTOL\n",
      "solver: ccg_with_restart, nit=187\n",
      "CONVERGENCE: NORM_OF_GRADIENT_<=_GTOL\n",
      "solver: ccg_without_restart, nit=70\n",
      "contac area: 0.3651885986328125\n",
      "dual\n",
      "CONVERGENCE: REL_REDUCTION_OF_F_<=_FACTR*EPSMCH\n",
      "solver: l-bfgs-b, nit=93\n",
      "CONVERGENCE: NORM_OF_GRADIENT_<=_GTOL\n",
      "solver: ccg_with_restart, nit=116\n",
      "it 2 : hessian is negative along the descent direction. You will probably need linesearch or trust region\n",
      "CONVERGENCE: NORM_OF_GRADIENT_<=_GTOL\n",
      "solver: ccg_without_restart, nit=90\n",
      "contac area: 0.8812103271484375\n",
      "primal\n",
      "CONVERGENCE: REL_REDUCTION_OF_F_<=_FACTR*EPSMCH\n",
      "solver: l-bfgs-b, nit=37\n"
     ]
    },
    {
     "name": "stderr",
     "output_type": "stream",
     "text": [
      "/Users/antoines/ContactMechanics/venv/lib/python3.8/site-packages/NuMPI/Optimization/ccg_with_restart.py:119: RuntimeWarning: invalid value encountered in double_scalars\n",
      "  des_dir[mask_c] = -residual[mask_c] + delta * (G / G_old) * des_dir[\n"
     ]
    },
    {
     "name": "stdout",
     "output_type": "stream",
     "text": [
      "NO-CONVERGENCE: MAXITERATIONS REACHED\n",
      "solver: ccg_with_restart, nit=999\n",
      "CONVERGENCE: NORM_OF_GRADIENT_<=_GTOL\n",
      "solver: ccg_without_restart, nit=36\n",
      "contac area: 0.8812103271484375\n"
     ]
    }
   ],
   "source": [
    "gtol = 1e-6\n",
    "\n",
    "for offset in [5*topo.rms_height_from_area() , 10 * topo.rms_height_from_area() ]:\n",
    "\n",
    "    init_gap = - (topo.heights() + offset)\n",
    "    init_gap[init_gap < 0] = 0\n",
    "\n",
    "    init_disp = init_gap + (topo.heights() + offset)\n",
    "    init_force = system.substrate.evaluate_force(init_disp)\n",
    "    print(\"dual\")\n",
    "    for solver in [\"l-bfgs-b\",  \"ccg_with_restart\", \"ccg_without_restart\",]:\n",
    "        sol = system.dual_minimize_proxy(\n",
    "            offset=offset,\n",
    "            init_force=init_force,\n",
    "            solver=solver,\n",
    "            gtol=gtol\n",
    "            #logger=screen\n",
    "            )\n",
    "        print(sol.message)\n",
    "        print(f\"solver: {solver}, nit={sol.nit}\")\n",
    "    print(\"contac area:\", system.compute_contact_area() / n ** 2)\n",
    "    print(\"primal\")\n",
    "\n",
    "    for solver in [\"l-bfgs-b\",  \"ccg_with_restart\",\"ccg_without_restart\"]:\n",
    "        sol = system.primal_minimize_proxy(\n",
    "            offset=offset,\n",
    "            init_gap=init_gap,\n",
    "            solver=solver,\n",
    "            gtol=gtol\n",
    "            #logger=screen\n",
    "            )\n",
    "        print(sol.message)\n",
    "        print(f\"solver: {solver}, nit={sol.nit}\")\n",
    "    print(\"contac area:\", system.compute_contact_area() / n ** 2)\n"
   ],
   "metadata": {
    "collapsed": false,
    "pycharm": {
     "name": "#%%\n"
    }
   }
  },
  {
   "cell_type": "code",
   "execution_count": 3,
   "outputs": [
    {
     "data": {
      "text/plain": "1.0"
     },
     "execution_count": 3,
     "metadata": {},
     "output_type": "execute_result"
    }
   ],
   "source": [
    "system.area_per_pt"
   ],
   "metadata": {
    "collapsed": false,
    "pycharm": {
     "name": "#%%\n"
    }
   }
  }
 ],
 "metadata": {
  "kernelspec": {
   "display_name": "Python 3",
   "language": "python",
   "name": "python3"
  },
  "language_info": {
   "codemirror_mode": {
    "name": "ipython",
    "version": 2
   },
   "file_extension": ".py",
   "mimetype": "text/x-python",
   "name": "python",
   "nbconvert_exporter": "python",
   "pygments_lexer": "ipython2",
   "version": "2.7.6"
  }
 },
 "nbformat": 4,
 "nbformat_minor": 0
}
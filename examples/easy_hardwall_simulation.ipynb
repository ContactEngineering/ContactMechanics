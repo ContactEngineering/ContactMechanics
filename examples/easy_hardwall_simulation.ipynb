{
 "cells": [
  {
   "cell_type": "markdown",
   "source": [
    "# Do contact calculations as easily as on contact.engineering in your jupyter notebook\n",
    "\n",
    "For more details on the simulations and more detailed use of the ContactMechanics Library, see notebooks\n",
    "- [Hardwall_Simulation.ipynb](Hardwall_Simulation.ipynb)\n",
    "- [plastic_simulation_cone.ipynb](plastic_simulation_cone.ipynb)\n",
    "- [constrained_conjugate_gradients.ipynb](constrained_conjugate_gradients.ipynb)"
   ],
   "metadata": {
    "collapsed": false,
    "pycharm": {
     "name": "#%% md\n"
    }
   }
  },
  {
   "cell_type": "code",
   "source": [
    "import numpy as np\n",
    "import matplotlib.pyplot as plt\n",
    "from SurfaceTopography import read_published_container"
   ],
   "metadata": {
    "collapsed": false,
    "pycharm": {
     "name": "#%%\n"
    },
    "ExecuteTime": {
     "end_time": "2025-05-13T11:12:43.258405Z",
     "start_time": "2025-05-13T11:12:38.253700Z"
    }
   },
   "outputs": [],
   "execution_count": 1
  },
  {
   "cell_type": "markdown",
   "source": [
    "## Read a published topography (Contact Mechanics challenge)"
   ],
   "metadata": {
    "collapsed": false,
    "pycharm": {
     "name": "#%% md\n"
    }
   }
  },
  {
   "cell_type": "code",
   "source": [
    "c, = read_published_container('https://contact.engineering/go/867nv')"
   ],
   "metadata": {
    "collapsed": false,
    "pycharm": {
     "name": "#%%\n"
    },
    "ExecuteTime": {
     "end_time": "2025-05-13T11:12:48.363132Z",
     "start_time": "2025-05-13T11:12:43.266081Z"
    }
   },
   "outputs": [],
   "execution_count": 2
  },
  {
   "cell_type": "code",
   "source": "[t.info[\"datafile\"]['original'] for t in c ]",
   "metadata": {
    "collapsed": false,
    "pycharm": {
     "name": "#%%\n"
    },
    "ExecuteTime": {
     "end_time": "2025-05-13T11:13:45.956160Z",
     "start_time": "2025-05-13T11:13:45.920455Z"
    }
   },
   "outputs": [
    {
     "data": {
      "text/plain": [
       "['0-50000x50000_randomtxt.txt',\n",
       " '1-5000x5000_randomtxt.txt',\n",
       " '2-500x500_randomtxt.txt']"
      ]
     },
     "execution_count": 5,
     "metadata": {},
     "output_type": "execute_result"
    }
   ],
   "execution_count": 5
  },
  {
   "cell_type": "code",
   "source": [
    "t = c[2]"
   ],
   "metadata": {
    "collapsed": false,
    "pycharm": {
     "name": "#%%\n"
    },
    "ExecuteTime": {
     "end_time": "2025-05-13T11:14:02.015286Z",
     "start_time": "2025-05-13T11:14:01.999822Z"
    }
   },
   "outputs": [],
   "execution_count": 8
  },
  {
   "cell_type": "markdown",
   "source": [
    "workaround to access the docstring"
   ],
   "metadata": {
    "collapsed": false,
    "pycharm": {
     "name": "#%% md\n"
    }
   }
  },
  {
   "cell_type": "code",
   "source": [
    "from ContactMechanics.PipelineFunction import contact_mechanics\n",
    "print(contact_mechanics.__doc__)"
   ],
   "metadata": {
    "collapsed": false,
    "pycharm": {
     "name": "#%%\n"
    },
    "ExecuteTime": {
     "end_time": "2025-05-13T11:14:04.865988Z",
     "start_time": "2025-05-13T11:14:04.852212Z"
    }
   },
   "outputs": [
    {
     "name": "stdout",
     "output_type": "stream",
     "text": [
      "\n",
      "    Carry out an automated contact mechanics calculations. The pipeline\n",
      "    function return thermodynamic data (averages over the contact area,\n",
      "    e.g. the total force or the total area). Spatially resolved data\n",
      "    (pressure maps, displacement maps, etc.) are passed to the callback\n",
      "    function. If this data is reqired, the callback function needs to take\n",
      "    care of analyzing or storing it.\n",
      "\n",
      "    Parameters\n",
      "    ----------\n",
      "    self : :obj:`SurfaceTopography.UniformTopographyInterface`\n",
      "        Topography on which to carry out the contact calculation.\n",
      "    substrate : str, optional\n",
      "        Specifies whether substrate should be 'periodic' or 'nonperiodic'. If\n",
      "        set to None, it will be chosen according to whether the topography is\n",
      "        periodic or nonperiodic.\n",
      "        (Default: None)\n",
      "    nsteps : int, optional\n",
      "        Number of contact steps. (Default: 10)\n",
      "    offsets : list of floats, optional\n",
      "        List with offsets. Can only be set if `nsteps` and `pressures` is\n",
      "        set to None. (Default: None)\n",
      "    pressures : list of floats, optional\n",
      "        List with pressures in units of E*. Can only be set if `nsteps` and\n",
      "        `offsets` is set to None. (Default: None)\n",
      "    hardness : float, optional\n",
      "        Hardness in units of E*. Calculation is fully elastic if set to None.\n",
      "        (Default: None)\n",
      "    maxiter : int, optional\n",
      "        Maximum number of interations. (Default: 100)\n",
      "    results_callback : func, optional\n",
      "        Callback function receiving displacement, pressure, etc. fields.\n",
      "        (Default: None)\n",
      "    optimizer_kwargs : dict, optional\n",
      "        Optional arguments passed on to the optimizer. (Default: {})\n",
      "\n",
      "    Returns\n",
      "    -------\n",
      "    mean_pressure : np.ndarray\n",
      "        Array with mean pressure for each calculation step.\n",
      "    total_contact_area : np.ndarray\n",
      "        Array with total area for each calculation step.\n",
      "    mean_displacement : np.ndarray\n",
      "        Array with mean displacement for each calculation step.\n",
      "    mean_gap : np.ndarray\n",
      "        Array with mean gap for each calculation step.\n",
      "    converged : np.ndarray\n",
      "        Convergence information for each calculation step. Unconverged\n",
      "        results are still returned but should be interpreted with care.\n",
      "    \n"
     ]
    }
   ],
   "execution_count": 9
  },
  {
   "cell_type": "markdown",
   "source": [
    "## Automatic contact calculations like on contact.engineering\n"
   ],
   "metadata": {
    "collapsed": false,
    "pycharm": {
     "name": "#%% md\n"
    }
   }
  },
  {
   "cell_type": "code",
   "source": [
    "mean_pressure, total_contact_area, mean_displacement, mean_gap, converged = t.contact_mechanics(nsteps=10)"
   ],
   "metadata": {
    "collapsed": false,
    "pycharm": {
     "name": "#%%\n"
    },
    "ExecuteTime": {
     "end_time": "2025-05-13T11:14:58.890263Z",
     "start_time": "2025-05-13T11:14:06.592080Z"
    }
   },
   "outputs": [],
   "execution_count": 10
  },
  {
   "cell_type": "code",
   "source": [
    "fig, ax = plt.subplots()\n",
    "ax.loglog(mean_pressure, total_contact_area / np.prod(t.physical_sizes), \"+\")\n",
    "ax.set_xlabel(\"mean pressure ($E^*$)\")\n",
    "ax.set_ylabel(\"relative contact area\")\n"
   ],
   "metadata": {
    "collapsed": false,
    "pycharm": {
     "name": "#%%\n"
    },
    "ExecuteTime": {
     "end_time": "2025-05-13T11:14:59.333092Z",
     "start_time": "2025-05-13T11:14:58.891556Z"
    }
   },
   "outputs": [
    {
     "data": {
      "text/plain": [
       "Text(0, 0.5, 'relative contact area')"
      ]
     },
     "execution_count": 11,
     "metadata": {},
     "output_type": "execute_result"
    },
    {
     "data": {
      "text/plain": [
       "<Figure size 640x480 with 1 Axes>"
      ],
      "image/png": "[encoded data removed]"
     },
     "metadata": {},
     "output_type": "display_data"
    }
   ],
   "execution_count": 11
  },
  {
   "metadata": {},
   "cell_type": "code",
   "outputs": [],
   "execution_count": null,
   "source": ""
  }
 ],
 "metadata": {
  "kernelspec": {
   "display_name": "Python 3",
   "language": "python",
   "name": "python3"
  },
  "language_info": {
   "codemirror_mode": {
    "name": "ipython",
    "version": 2
   },
   "file_extension": ".py",
   "mimetype": "text/x-python",
   "name": "python",
   "nbconvert_exporter": "python",
   "pygments_lexer": "ipython2",
   "version": "2.7.6"
  }
 },
 "nbformat": 4,
 "nbformat_minor": 0
}
